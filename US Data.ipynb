{
 "cells": [
  {
   "cell_type": "code",
   "execution_count": 1,
   "metadata": {
    "id": "ByqvFRCsn56O"
   },
   "outputs": [],
   "source": [
    "import pandas as pd\n",
    "import matplotlib.pylab as pylab\n",
    "import matplotlib.pyplot as plt "
   ]
  },
  {
   "cell_type": "code",
   "execution_count": 2,
   "metadata": {
    "id": "leqMXJM3Vz0Q"
   },
   "outputs": [],
   "source": [
    "REGION_LIST = ['Far_West','Great_Lakes', 'Mideast', 'New_England', 'Plains', 'Rocky_Mountain', 'Southeast', 'Southwest','all']\n",
    "VALUES_LIST = ['Pop', 'GDP', 'PI', 'Sub', 'CE', 'TPI', 'GDPp', 'PIp']\n",
    "\n",
    "#Create dictionaries for user input\n",
    "thisdic = {\"far_west\":\"Far_West\",\"great_lakes\":\"Great_Lakes\", \"mideast\":\"Mideast\",\"new_england\":\"New_England\", \"plains\":\"Plains\", \"rocky_mountain\":\"Rocky_Mountain\", \"southeast\":\"Southeast\", \"southwest\":\"Southwest\",\"all\":\"all\"}\n",
    "thisdic1 = {\"Pop\":\"Population (millions)\", \"GDP\":\"GDP (billions)\", \"PI\":\"Personal Income (billions)\",\"Sub\":\"Subsidies (millions)\",\"CE\":\"Comp of Emp (billions)\",\"TPI\":\"Tax on Prod/Imp (billions)\", \"GDPp\":\"GDP per Capita\",\"PIp\":\"Per capita personal income\"}\n",
    "thisdic2 = {\"Pop\":\"Population(m)\",\"GDP\": \"GDP(b)\",\"PI\":\"Income(b)\",\"Sub\":\"Subsidies(m)\",\"CE\":\"Compensation(b)\",\"TPI\":\"Taxes(b)\",\"GDPp\":\"GDP per Capita\",\"PIp\":\"Per capita personal income\"}"
   ]
  },
  {
   "cell_type": "code",
   "execution_count": 3,
   "metadata": {
    "id": "kZDk3_7iNIpq"
   },
   "outputs": [],
   "source": [
    "#Create function to read file with given filename\n",
    "def read_file():\n",
    "    try:\n",
    "        file_name = input(\"What is the filename? \")\n",
    "        df = pd.read_csv(file_name)  #read the csv file into dataframe\n",
    "        return df                    #return dataframe\n",
    "    except FileNotFoundError:\n",
    "        print(\"File not found\")      #if filename cannot be found, ask to enter again\n",
    "        df = read_file()\n",
    "        return df\n"
   ]
  },
  {
   "cell_type": "code",
   "execution_count": 4,
   "metadata": {
    "id": "elorOxmGkYyg"
   },
   "outputs": [],
   "source": [
    "#Create function to calculate GDP per Capita and Per capita personla income\n",
    "def add_GDPp_PIp(df):\n",
    "  df['GDP per Capita'] = round(df['GDP (billions)'] / df['Population (millions)']*1000, 2)            #append GDP per Capita to df\n",
    "  df['Per capita personal income'] = round(df['Personal Income (billions)'] / df['Population (millions)']*1000, 2)   #append Per capita personal income to df\n",
    "  return df\n"
   ]
  },
  {
   "cell_type": "code",
   "execution_count": 5,
   "metadata": {
    "id": "sfXm9I0RkY0v"
   },
   "outputs": [],
   "source": [
    "#Create function to get region input\n",
    "def get_region_data(df):\n",
    "  while True: \n",
    "    data = input(\"Specify a region from this list -- far_west,great_lakes,mideast,new_england,plains,rocky_mountain,southeast,southwest,all: \").lower() #change input into lowercase\n",
    "    if data == \"all\":                              #If data == \"all\", return full df and data\n",
    "          return df, data\n",
    "    elif data in (x.lower() for x in REGION_LIST): #If data is in region list, return df of selected region and data\n",
    "          df = df.loc[df[\"Region\"]==thisdic[data]]\n",
    "          return df, data\n",
    "    else:                                          #If data is not all or in region list, keep prompting\n",
    "        print(\"Sorry, your response is invalid.\") \n"
   ]
  },
  {
   "cell_type": "code",
   "execution_count": 6,
   "metadata": {
    "id": "VIlom198kY8X"
   },
   "outputs": [],
   "source": [
    "#Create function to find out the states with highest and lowest GDP per capita and Per capita personal income\n",
    "def get_max_min(df,data):\n",
    "  state_max1 = df['State'][df['GDP per Capita'] == df['GDP per Capita'].max()].to_string(index=False).replace(\" \", \"\")\n",
    "  GDP_max = df['GDP per Capita'][df['GDP per Capita'] == df['GDP per Capita'].max()].apply(lambda x : \"${:,.2f}\".format(x)).to_string(index=False)\n",
    "\n",
    "  state_min1 = df['State'][df['GDP per Capita'] == df['GDP per Capita'].min()].to_string(index=False).replace(\" \", \"\")\n",
    "  GDP_min = df['GDP per Capita'][df['GDP per Capita'] == df['GDP per Capita'].min()].apply(lambda x : \"${:,.2f}\".format(x)).to_string(index=False)\n",
    "\n",
    "  state_max2 = df['State'][df['Per capita personal income'] == df['Per capita personal income'].max()].to_string(index=False).replace(\" \", \"\")\n",
    "  Income_max = df['Per capita personal income'][df['Per capita personal income'] == df['Per capita personal income'].max()].apply(lambda x : \"${:,.2f}\".format(x)).to_string(index=False)\n",
    "\n",
    "  state_min2 = df['State'][df['Per capita personal income'] == df['Per capita personal income'].min()].to_string(index=False).replace(\" \", \"\")\n",
    "  Income_min = df['Per capita personal income'][df['Per capita personal income'] == df['Per capita personal income'].min()].apply(lambda x : \"${:,.2f}\".format(x)).to_string(index=False)\n",
    "  \n",
    "  pd.options.display.float_format = '{:,.2f}'.format      #add format(commas every thousands and round to 2 decimal places) to floats in df\n",
    "  pd.set_option(\"display.max_columns\", None)              #set option to show all columns of data in the final output\n",
    "  print(\"This is the data for the\", thisdic[data],\"region: \")\n",
    "  print('')\n",
    "  print(state_max1, \"has the highest GDP per Capita of the region at: \", GDP_max)\n",
    "  print(state_min1, \"has the lowest GDP per Capita of the region at: \" , GDP_min)\n",
    "  print('')\n",
    "  print(state_max2, \"has the highest per capita personal income of the region at: \", Income_max)\n",
    "  print(state_min2, \"has the highest per capita personal income of the region at: \", Income_min)\n",
    "  print('')\n",
    "  print(\"Data for all states in the\", thisdic[data],\"region: \")\n",
    "  print('')\n",
    "  print(df)\n"
   ]
  },
  {
   "cell_type": "code",
   "execution_count": 7,
   "metadata": {
    "id": "du26rGBJgMtX"
   },
   "outputs": [],
   "source": [
    "#Create function to get plot inputs\n",
    "def get_plot_input():\n",
    "  while True:\n",
    "    try:\n",
    "      PROMPT2 = input(\"Specify x and y values, space separated from Pop, GDP, PI, Sub, CE, TPI, GDPp, PIp: \").split(\" \") #split the input\n",
    "      x = PROMPT2[0] #First input\n",
    "      y = PROMPT2[1] #Second input\n",
    "\n",
    "      if x and y in VALUES_LIST:  #If both inputs are in Values_List, output x and y\n",
    "          return x, y\n",
    "      else:                       #If not, keep promting\n",
    "          print(\"Please enter values exactly as suggested\")\n",
    "    except IndexError:            #If only one value is entered, ask to enter again\n",
    "      print(\"Please type in two inputs\")\n",
    "\n",
    "#Create function for annotations\n",
    "def label_point(x, y, val, ax):\n",
    "    a = pd.concat({'x': x, 'y': y, 'val': val}, axis=1)\n",
    "    for i, point in a.iterrows():\n",
    "        ax.text(point['x'], point['y'], str(point['val']), size = 10)\n",
    "\n",
    "#Create function for plotting scatter plot and regressino line\n",
    "def plot_sct_reg(x,y,df):\n",
    "    #scatter plot\n",
    "    plt.scatter(df[thisdic1[x]], df[thisdic1[y]],c=\"darkblue\",s=10)\n",
    "    pylab.xlabel(thisdic2[x])   #label x axis\n",
    "    pylab.ylabel(thisdic2[y])   #label y axis\n",
    "    plt.title(thisdic2[x] + \" vs. \" + thisdic2[y])  #add title to plot\n",
    "    label_point(df[thisdic1[x]], df[thisdic1[y]], df[\"State\"], plt) #add annotations to each point\n",
    "\n",
    "    #regression\n",
    "    xarr = pylab.array(df[thisdic1[x]]) #numpy array\n",
    "    yarr = pylab.array(df[thisdic1[y]]) #numpy arry\n",
    "    m,b = pylab.polyfit(xarr,yarr, deg = 1) #creates line, only takes numpy arrays\n",
    "    #as parameters\n",
    "    pylab.plot(xarr,m*xarr + b, '-',c=\"blue\") #plotting the regression line\n",
    "    plt.show()\n",
    "\n"
   ]
  },
  {
   "cell_type": "code",
   "execution_count": 9,
   "metadata": {
    "colab": {
     "base_uri": "https://localhost:8080/",
     "height": 1000
    },
    "id": "jgww90f9kG9x",
    "outputId": "1ad92452-f251-4b35-f1aa-38b1b21b6cb6"
   },
   "outputs": [
    {
     "name": "stdin",
     "output_type": "stream",
     "text": [
      "What is the filename?  State_Data.csv\n",
      "Specify a region from this list -- far_west,great_lakes,mideast,new_england,plains,rocky_mountain,southeast,southwest,all:  far_WEsT\n"
     ]
    },
    {
     "name": "stdout",
     "output_type": "stream",
     "text": [
      "This is the data for the Far_West region: \n",
      "\n",
      "Alaska has the highest GDP per Capita of the region at:   $60,873.83\n",
      "Nevada has the lowest GDP per Capita of the region at:   $40,539.24\n",
      "\n",
      "Alaska has the highest per capita personal income of the region at:   $45,721.33\n",
      "Oregon has the highest per capita personal income of the region at:   $35,868.82\n",
      "\n",
      "Data for all states in the Far_West region: \n",
      "\n",
      "         State    Region  Population (millions)  GDP (billions)  \\\n",
      "1       Alaska  Far_West                   0.71           43.47   \n",
      "4   California  Far_West                  37.33        1,672.50   \n",
      "11      Hawaii  Far_West                   1.36           59.67   \n",
      "28      Nevada  Far_West                   2.70          109.61   \n",
      "37      Oregon  Far_West                   3.84          174.17   \n",
      "47  Washington  Far_West                   6.74          307.69   \n",
      "\n",
      "    Personal Income (billions)  Subsidies (millions)  Comp of Emp (billions)  \\\n",
      "1                        32.65                    68                   22.96   \n",
      "4                     1,579.10                  9235                1,009.60   \n",
      "11                       56.83                   276                   37.88   \n",
      "28                       99.21                   313                   62.41   \n",
      "37                      137.67                   703                   88.90   \n",
      "47                      286.74                  1526                  187.42   \n",
      "\n",
      "    Tax on Prod/Imp (billions)  GDP per Capita  Per capita personal income  \n",
      "1                         6.33       60,873.83                   45,721.33  \n",
      "4                       133.61       44,797.83                   42,296.11  \n",
      "11                        5.45       43,736.71                   41,653.01  \n",
      "28                       10.27       40,539.24                   36,691.40  \n",
      "37                        8.03       45,378.04                   35,868.82  \n",
      "47                       28.48       45,626.96                   42,520.88  \n"
     ]
    },
    {
     "name": "stdin",
     "output_type": "stream",
     "text": [
      "Do you want to make a plot? yes\n",
      "Specify x and y values, space separated from Pop, GDP, PI, Sub, CE, TPI, GDPp, PIp:  GDP\n"
     ]
    },
    {
     "name": "stdout",
     "output_type": "stream",
     "text": [
      "Please type in two inputs\n"
     ]
    },
    {
     "name": "stdin",
     "output_type": "stream",
     "text": [
      "Specify x and y values, space separated from Pop, GDP, PI, Sub, CE, TPI, GDPp, PIp:  GDP\n"
     ]
    },
    {
     "name": "stdout",
     "output_type": "stream",
     "text": [
      "Please type in two inputs\n"
     ]
    },
    {
     "name": "stdin",
     "output_type": "stream",
     "text": [
      "Specify x and y values, space separated from Pop, GDP, PI, Sub, CE, TPI, GDPp, PIp:  PI Sub\n"
     ]
    },
    {
     "data": {
      "image/png": "[encoded data removed]",
      "text/plain": [
       "<Figure size 432x288 with 1 Axes>"
      ]
     },
     "metadata": {
      "needs_background": "light"
     },
     "output_type": "display_data"
    }
   ],
   "source": [
    "def main():\n",
    "  #function1:input file name and read file into dataframe\n",
    "  df = read_file()\n",
    "\n",
    "  #function2: input region name\n",
    "  df = add_GDPp_PIp(df)\n",
    "  df, data = get_region_data(df)\n",
    "  \n",
    " \n",
    "  #function3:display data with selected region.\n",
    "  get_max_min(df, data)\n",
    "\n",
    "  #function4:ask user to choose whether or not to do the plot\n",
    "  while True:\n",
    "      option = input(\"Do you want to make a plot?\")\n",
    "\n",
    "      #If user enter \"yes\", continue to plot, then break\n",
    "      if option.lower() == \"yes\":\n",
    "          x, y = get_plot_input()\n",
    "          plot_sct_reg(x,y,df)\n",
    "          break\n",
    "\n",
    "      #If user enter \"no\", break\n",
    "      if option.lower() == \"no\":\n",
    "          break\n",
    "\n",
    "      #If user enter string outside yes/no, keep prompting\n",
    "      else:\n",
    "          print(\"Please enter either Yes or No.\")\n",
    "\n",
    "main()"
   ]
  },
  {
   "cell_type": "code",
   "execution_count": null,
   "metadata": {},
   "outputs": [],
   "source": []
  }
 ],
 "metadata": {
  "colab": {
   "collapsed_sections": [],
   "name": "GDP USA.ipynb",
   "provenance": []
  },
  "kernelspec": {
   "display_name": "Python 3",
   "language": "python",
   "name": "python3"
  },
  "language_info": {
   "codemirror_mode": {
    "name": "ipython",
    "version": 3
   },
   "file_extension": ".py",
   "mimetype": "text/x-python",
   "name": "python",
   "nbconvert_exporter": "python",
   "pygments_lexer": "ipython3",
   "version": "3.8.5"
  }
 },
 "nbformat": 4,
 "nbformat_minor": 4
}
